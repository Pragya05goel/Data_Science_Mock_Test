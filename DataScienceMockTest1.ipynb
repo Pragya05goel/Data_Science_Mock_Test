{
 "cells": [
  {
   "cell_type": "markdown",
   "id": "57e0c41d-943f-4ed2-a1c7-3c55fc9ec0c6",
   "metadata": {},
   "source": [
    "# **Data Science Mock Test 1**"
   ]
  },
  {
   "cell_type": "markdown",
   "id": "3dc892c0-6c05-410c-83a9-4d23e8b11fc8",
   "metadata": {},
   "source": [
    "**17. Write a function that takes a list of numbers as input and returns a new list containing only the even numbers from the input list. Use list comprehension to solve this problem.**\n",
    "\n",
    "**Example:**\n",
    "\n",
    "Input: [1, 2, 3, 4, 5, 6, 7, 8, 9, 10]\n",
    "\n",
    "Output: [2, 4, 6, 8, 10]"
   ]
  },
  {
   "cell_type": "code",
   "execution_count": 1,
   "id": "3312af49-d39d-4888-9f35-9c7cb9c2899c",
   "metadata": {},
   "outputs": [],
   "source": [
    "def even_num(lst):\n",
    "    \n",
    "    even_lst=[x for x in lst if(x%2==0)]\n",
    "    \n",
    "    return even_lst"
   ]
  },
  {
   "cell_type": "code",
   "execution_count": 2,
   "id": "8d04bd5c-5a69-4621-bbd0-b55f5d5c3192",
   "metadata": {},
   "outputs": [
    {
     "data": {
      "text/plain": [
       "[2, 4, 6, 8, 10]"
      ]
     },
     "execution_count": 2,
     "metadata": {},
     "output_type": "execute_result"
    }
   ],
   "source": [
    "even_num( [1, 2, 3, 4, 5, 6, 7, 8, 9, 10])"
   ]
  },
  {
   "cell_type": "markdown",
   "id": "d1dc1850-ca4a-4c0e-965c-c4cbf20bd86e",
   "metadata": {},
   "source": [
    "**18. Implement a decorator function called ‘timer’ that measures the execution time of a function. The ‘timer’ decorator should print the time taken by the decorated function to execute. Use the ‘time’ module in Python to calculate the execution time.**\n",
    "\n",
    "**Example:**\n",
    "\n",
    "import time<br>\n",
    "\n",
    "@timer<br>\n",
    "def my_function():<br>\n",
    "    # Function code goes here<br>\n",
    "    time.sleep(2)<br>\n",
    "\n",
    "my_function()<br>\n",
    "\n",
    "Output:<br>\n",
    "\"Execution time: 2.00123 seconds\""
   ]
  },
  {
   "cell_type": "code",
   "execution_count": 3,
   "id": "3556fb2b-54c5-4846-a2a9-093f1a316741",
   "metadata": {},
   "outputs": [],
   "source": [
    "import time\n",
    "def timer(func):\n",
    "    def inner_timer():\n",
    "        start_time=time.time()\n",
    "        func()\n",
    "        end_time=time.time()\n",
    "        print(end_time-start_time)\n",
    "    return inner_timer"
   ]
  },
  {
   "cell_type": "code",
   "execution_count": 4,
   "id": "da52eeb8-7055-4e49-97c1-5aef850a0a4c",
   "metadata": {},
   "outputs": [
    {
     "name": "stdout",
     "output_type": "stream",
     "text": [
      "1.430511474609375e-06\n"
     ]
    }
   ],
   "source": [
    "@timer\n",
    "def my_function():\n",
    "    lst=range(0,20)\n",
    "\n",
    "my_function()"
   ]
  },
  {
   "cell_type": "markdown",
   "id": "71ed8762-1b66-4cf5-a5e0-41a6c45db444",
   "metadata": {},
   "source": [
    "**19. Write a function called ‘calculate_mean’ that takes a list of numbers as input and returns the mean (average) of the numbers. The function should calculate the mean using the sum of the numbers divided by the total count.**\n",
    "\n",
    "**Example:**\n",
    "\n",
    "def calculate_mean(numbers):<br>\n",
    "    total = sum(numbers)<br>\n",
    "    count = len(numbers)<br>\n",
    "    mean = total / count<br>\n",
    "    return mean<br>\n",
    "\n",
    "data = [10, 15, 20, 25, 30]<br>\n",
    "mean_value = calculate_mean(data)<br>\n",
    "print(\"Mean:\", mean_value)<br>\n",
    "\n",
    "Output:<br>\n",
    "Mean: 20.0<br>"
   ]
  },
  {
   "cell_type": "code",
   "execution_count": 5,
   "id": "175a93bb-7a2c-4a09-a9fb-375fa030df3f",
   "metadata": {},
   "outputs": [],
   "source": [
    "from functools import reduce\n",
    "def calculate_mean(lst):\n",
    "    sum_value=reduce(lambda x,y:x+y,lst)\n",
    "    count=len(lst)\n",
    "    \n",
    "    return sum_value/count"
   ]
  },
  {
   "cell_type": "code",
   "execution_count": 6,
   "id": "e1871825-baf5-4d6f-81b4-529fe0f9e791",
   "metadata": {},
   "outputs": [
    {
     "name": "stdout",
     "output_type": "stream",
     "text": [
      "Mean: 20.0\n"
     ]
    }
   ],
   "source": [
    "mean=calculate_mean([10, 15, 20, 25, 30])\n",
    "print(\"Mean:\",mean)"
   ]
  },
  {
   "cell_type": "markdown",
   "id": "586db2c4-7769-48b1-a54b-0de59a706b2a",
   "metadata": {},
   "source": [
    "**20. Write a function called ‘perform_hypothesis_test’ that takes two lists of numbers as input, representing two samples. The function should perform a two-sample t-test and return the p-value. Use the ‘scipy.stats’ module in Python to calculate the t-test and p-value.**\n",
    "\n",
    "**Example:**\n",
    "\n",
    "from scipy import stats<br>\n",
    "\n",
    "def perform_hypothesis_test(sample1, sample2):<br>\n",
    "    t_statistic, p_value = stats.ttest_ind(sample1, sample2)<br>\n",
    "    return p_value<br>\n",
    "\n",
    "sample1 = [5, 10, 15, 20, 25]<br>\n",
    "sample2 = [10, 20, 30, 40, 50]<br>\n",
    "p_value = perform_hypothesis_test(sample1, sample2)<br>\n",
    "print(\"P-value:\", p_value)<br>\n",
    "\n",
    "Output:<br>\n",
    "P-value: 0.1064706396450037<br>\n"
   ]
  },
  {
   "cell_type": "code",
   "execution_count": 7,
   "id": "7efae217-51a3-4a7b-b6e8-87f0cec2fdc8",
   "metadata": {},
   "outputs": [],
   "source": [
    "from scipy import stats\n",
    "\n",
    "def perform_hypothesis_test(s1,s2):\n",
    "    statistics,p_value=stats.ttest_ind(s1,s2,equal_var=False)\n",
    "    \n",
    "    return p_value"
   ]
  },
  {
   "cell_type": "code",
   "execution_count": 8,
   "id": "641fe996-b3e8-4d29-a98a-8573cd2ae6f8",
   "metadata": {},
   "outputs": [
    {
     "name": "stdout",
     "output_type": "stream",
     "text": [
      "P-value: 0.10753119493062718\n"
     ]
    }
   ],
   "source": [
    "calc_p_value=perform_hypothesis_test([5, 10, 15, 20, 25],[10, 20, 30, 40, 50])\n",
    "print(\"P-value:\",calc_p_value)"
   ]
  },
  {
   "cell_type": "markdown",
   "id": "fdfbe1bc-dd59-4cbf-8c10-84ea9b3abf75",
   "metadata": {},
   "source": [
    "--------------------------------"
   ]
  },
  {
   "cell_type": "code",
   "execution_count": null,
   "id": "69d5a03e-2191-4f14-8c32-3ce8038cc169",
   "metadata": {},
   "outputs": [],
   "source": []
  }
 ],
 "metadata": {
  "kernelspec": {
   "display_name": "Python 3 (ipykernel)",
   "language": "python",
   "name": "python3"
  },
  "language_info": {
   "codemirror_mode": {
    "name": "ipython",
    "version": 3
   },
   "file_extension": ".py",
   "mimetype": "text/x-python",
   "name": "python",
   "nbconvert_exporter": "python",
   "pygments_lexer": "ipython3",
   "version": "3.10.8"
  }
 },
 "nbformat": 4,
 "nbformat_minor": 5
}
